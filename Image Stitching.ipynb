{
 "cells": [
  {
   "cell_type": "markdown",
   "metadata": {},
   "source": [
    "## Computer Vision Assignment 1 ( Image Stitching )\n",
    "#### Theodoros Antoniou i6266659"
   ]
  },
  {
   "cell_type": "code",
   "execution_count": 1,
   "metadata": {
    "pycharm": {
     "name": "#%%\n"
    }
   },
   "outputs": [],
   "source": [
    "import numpy as np\n",
    "import cv2 as cv\n",
    "from math import sqrt, pow\n",
    "import matplotlib.pyplot as plt\n",
    "import random\n",
    "from skimage.transform import AffineTransform\n",
    "from scipy.spatial.distance import cdist\n",
    "from sklearn.linear_model import LinearRegression\n",
    "import warnings\n",
    "\n",
    "from scipy.spatial import distance\n",
    "warnings.filterwarnings('ignore')\n"
   ]
  },
  {
   "cell_type": "markdown",
   "metadata": {},
   "source": [
    "## Loading Images and declaring Functions"
   ]
  },
  {
   "cell_type": "code",
   "execution_count": 2,
   "metadata": {
    "pycharm": {
     "name": "#%%\n"
    }
   },
   "outputs": [],
   "source": [
    "'''Select the Images to be used and enter them to the sample_images Folder'''\n",
    "#load images that we want to stitch\n",
    "def load_img(LEFT_PATH,RIGHT_PATH):\n",
    "    left_img = cv.imread(LEFT_PATH)\n",
    "    left_img = cv.cvtColor(left_img,cv.COLOR_BGR2RGB)\n",
    "    right_img = cv.imread(RIGHT_PATH)\n",
    "    right_img = cv.cvtColor(right_img,cv.COLOR_BGR2RGB)\n",
    "\n",
    "    return left_img, right_img\n",
    "\n",
    "def display_img(img):\n",
    "    fig = plt.figure(figsize=(12,10))\n",
    "    ax = fig.add_subplot(111)\n",
    "    ax.imshow(img)"
   ]
  },
  {
   "cell_type": "markdown",
   "source": [
    "## Corner Harris Keypoints"
   ],
   "metadata": {
    "collapsed": false,
    "pycharm": {
     "name": "#%% md\n"
    }
   }
  },
  {
   "cell_type": "code",
   "execution_count": 3,
   "outputs": [],
   "source": [
    "def Corner_Harris(img, blocksize, ksize, K, threshold):\n",
    "    gray = cv.cvtColor(img,cv.COLOR_BGR2GRAY)\n",
    "    gray = np.float32(gray)\n",
    "    dst = cv.cornerHarris(gray, blockSize=blocksize, ksize=ksize, k=K)\n",
    "\n",
    "    #Turn red all the points of interest from Harris Corner\n",
    "    img[dst>threshold*dst.max()] = [255,0,0]\n",
    "\n",
    "    display_img(img)\n",
    "    plt.title(\"Corner Harris Selection\")\n",
    "\n",
    "    return dst\n",
    "\n",
    "\n",
    "def Convert_To_Keypoints(points, trs):\n",
    "\n",
    "    '''Coverting from Points to Memorry Keypoints'''\n",
    "    kps = np.argwhere(points > trs * points.max())\n",
    "    kps = [cv.KeyPoint(float(pt[1]), float(pt[0]), 13) for pt in kps]\n",
    "\n",
    "\n",
    "    return kps"
   ],
   "metadata": {
    "collapsed": false,
    "pycharm": {
     "name": "#%%\n"
    }
   }
  },
  {
   "cell_type": "markdown",
   "source": [
    "## Caclulating Distances and Selecting Best Matches"
   ],
   "metadata": {
    "collapsed": false,
    "pycharm": {
     "name": "#%% md\n"
    }
   },
   "outputs": [],
   "execution_count": 1
  },
  {
   "cell_type": "code",
   "execution_count": 4,
   "outputs": [],
   "source": [
    "def distances(des1, des2, method='euclidean'):\n",
    "\n",
    "    '''Using Euclidian/Correlation by first normalizing the descriptors values for Euclidian and then Using\n",
    "    cdist from scipy'''\n",
    "\n",
    "    if method == 'euclidean':\n",
    "        norm_des1 = np.linalg.norm(des1, ord=2, axis=1).reshape(-1,1)\n",
    "        norm_des2 = np.linalg.norm(des2, ord=2, axis=1).reshape(-1,1)\n",
    "        #Return Normalize distance\n",
    "        return cdist(des1/norm_des1, des2/norm_des2, 'euclidean')\n",
    "    else:\n",
    "        return cdist(des1, des2, 'correlation')\n",
    "\n",
    "def best_matches(distance,matches):\n",
    "\n",
    "    '''Selecting and Detecting the best_matches. I picked a starting Threshold of the min + std and then start decreasing\n",
    "     until the dropout of maximum matches is reached.'''\n",
    "    ts = distance.min() + distance.std()\n",
    "    condition = True\n",
    "    while condition == True:\n",
    "\n",
    "        best_matches = np.where(distance < ts)\n",
    "\n",
    "        listOfCoordinates= list(zip(best_matches[0], best_matches[1]))\n",
    "        '''Here we filter the list of coordinates to get only the best unique pairs'''\n",
    "        flag = 1\n",
    "        match_cord = []\n",
    "        for cord in listOfCoordinates:\n",
    "            for i in range(len(match_cord)):\n",
    "                if (cord[0] != match_cord[i][0] and cord[1] != match_cord[i][1] ):\n",
    "                    flag = 1\n",
    "                else:\n",
    "                    flag = 0\n",
    "\n",
    "            if flag == 1:\n",
    "                match_cord.append(cord)\n",
    "        ts = ts - 0.01\n",
    "        condition = len(match_cord) > matches\n",
    "\n",
    "    return match_cord"
   ],
   "metadata": {
    "collapsed": false,
    "pycharm": {
     "name": "#%%\n"
    }
   }
  },
  {
   "cell_type": "markdown",
   "source": [
    "## Ransac Implementation"
   ],
   "metadata": {
    "collapsed": false,
    "pycharm": {
     "name": "#%% md\n"
    }
   }
  },
  {
   "cell_type": "code",
   "execution_count": 5,
   "outputs": [],
   "source": [
    "def gen_random_match(matches):\n",
    "\n",
    "    '''Genarting A Unique Triple, in order to initiate Ransac Algorithm'''\n",
    "    matches_int= np.random.randint(len(matches),size=3)\n",
    "    while len(matches_int) != len(np.unique(matches_int)):\n",
    "            matches_int = np.random.randint(len(matches), size=3)\n",
    "\n",
    "    return matches_int\n",
    "\n",
    "def inliner_residuals(inliers, match_left, match_right,affine_TF):\n",
    "\n",
    "    '''Calculating the MSE of the Inliners in order to use as Score.'''\n",
    "\n",
    "    match_left_arr = np.asarray(match_left)\n",
    "    match_right_arr = np.asarray((match_right))\n",
    "    z = np.ones((len(match_left_arr),1))\n",
    "    match_left_arr = np.append(match_left_arr,z,axis=1)\n",
    "\n",
    "    MSE = 0\n",
    "    for pixels in inliers:\n",
    "        wrapped_p1 = np.matmul(match_left_arr[pixels], np.transpose(affine_TF[:2]))[0]\n",
    "        wrapped_p2 = np.matmul(match_left_arr[pixels], np.transpose(affine_TF[:2]))[1]\n",
    "\n",
    "        error = pow(match_right_arr[pixels][0] - wrapped_p1,2) + pow(match_right_arr[pixels][1] - wrapped_p2,2)\n",
    "        MSE = MSE + error\n",
    "    MSE = sqrt(MSE) / (2 * len(inliers))\n",
    "    return MSE\n",
    "\n",
    "def fit_line(X,x_target,y_target):\n",
    "\n",
    "    '''Performing bivariate Linear Regresion by fitting one line for the X_target and one line for y_target'''\n",
    "    X = np.array(X)\n",
    "    x_target = np.asarray(x_target).reshape(-1,1)\n",
    "    y_target = np.asarray(y_target).reshape(-1,1)\n",
    "\n",
    "    #Fit first line\n",
    "    reg1 = LinearRegression().fit(X, x_target)\n",
    "    a1, b1, c1 = reg1.coef_[0][0], reg1.coef_[0][1], reg1.intercept_[0]\n",
    "\n",
    "\n",
    "    #Fit second Line\n",
    "    reg2 = LinearRegression().fit(X, y_target)\n",
    "    a2, b2, c2 = reg2.coef_[0][0], reg2.coef_[0][1], reg2.intercept_[0]\n",
    "\n",
    "\n",
    "    return a1,b1,c1,a2,b2,c2\n",
    "\n",
    "\n",
    "def Ransac (L_pixels,R_pixels, tolerance, ts, max_iter=1000):\n",
    "\n",
    "    '''Ransac, here we generate a random selection of 3 matches, and then we perform Linear\n",
    "    Regression to predict the pixels of the right image'''\n",
    "    condition = True\n",
    "    iter = 0\n",
    "    while condition == True:\n",
    "        random_matches = gen_random_match(L_pixels)\n",
    "\n",
    "        X = []\n",
    "        x_target = []\n",
    "        y_target = []\n",
    "        for pixel in random_matches:\n",
    "            X.append(L_pixels[pixel]) # Appending the Left pixels\n",
    "            x_target.append(R_pixels[pixel][0]) # appending the first pixel of right image\n",
    "            y_target.append(R_pixels[pixel][1]) # appending second pixel of right image\n",
    "\n",
    "        a1,b1,c1,a2,b2,c2 = fit_line(X,x_target,y_target) ##Fitting the 2 lines and getting back the Coefs\n",
    "\n",
    "        inliers = []\n",
    "        outliers = []\n",
    "        for pixel in range(len(L_pixels)):\n",
    "            if pixel not in random_matches:\n",
    "                x_pi = L_pixels[pixel][0]\n",
    "                y_pi = L_pixels[pixel][1]\n",
    "                x_pi_target = R_pixels[pixel][0]\n",
    "                y_pi_target = R_pixels[pixel][1]\n",
    "\n",
    "                dist1 = abs(x_pi_target - a1*x_pi - b1*y_pi - c1) ##Calculating the absolute distance of True - predicted from line 1\n",
    "                dist2 = abs(y_pi_target - a2*x_pi - b2*y_pi - c2) ##//\n",
    "                if dist1 <= tolerance and dist2 <= tolerance: ## If it is inside the margin is an inliner\n",
    "                    inliers.append(pixel)\n",
    "                else:\n",
    "                    outliers.append(pixel)\n",
    "        iter = iter + 1\n",
    "        #print(iter)\n",
    "        condition = len(inliers)/len(L_pixels) <= ts and iter <= max_iter\n",
    "\n",
    "    '''Now we need to fit regression only in the inliers to get the best transformation'''\n",
    "    X = []\n",
    "    x_target = []\n",
    "    y_target = []\n",
    "    print(f'Number of Inliers: {len(inliers)}')\n",
    "    print(f'Number of Outliers: {len(outliers)}')\n",
    "    for pixel in inliers:\n",
    "        X.append(L_pixels[pixel])\n",
    "        x_target.append(R_pixels[pixel][0])\n",
    "        y_target.append(R_pixels[pixel][1])\n",
    "\n",
    "    a1,b1,c1,a2,b2,c2 = fit_line(X,x_target,y_target)\n",
    "\n",
    "    return a1,b1,c1,a2,b2,c2,inliers"
   ],
   "metadata": {
    "collapsed": false,
    "pycharm": {
     "name": "#%%\n"
    }
   }
  },
  {
   "cell_type": "markdown",
   "metadata": {
    "pycharm": {
     "name": "#%% md\n"
    }
   },
   "source": [
    "## Declaration of a master function that includes the whole pipeline\n",
    "\n",
    "#### As parameters (blocksize, ksize, K, n_matches, threshold,d_method,margin,ts)\n",
    "\n"
   ]
  },
  {
   "cell_type": "code",
   "execution_count": 6,
   "metadata": {
    "pycharm": {
     "name": "#%%\n"
    }
   },
   "outputs": [],
   "source": [
    "def Stitch_Images(LEFT_PATH,RIGHT_PATH,blocksize,ksize,K,n_matches,threshold, d_method,margin,ts):\n",
    "\n",
    "    '''Pipeline'''\n",
    "\n",
    "    '''CORNER HARRIS'''\n",
    "\n",
    "    #Load images\n",
    "    left_img, right_img = load_img(LEFT_PATH,RIGHT_PATH)\n",
    "    #Sent the left image to get back the corner points\n",
    "    left_harris = Corner_Harris(left_img,blocksize, ksize, K,threshold)\n",
    "    #sent right image\n",
    "    right_harris = Corner_Harris(right_img,blocksize, ksize, K,threshold)\n",
    "\n",
    "    # Convert and trehshold the keypoints from harris to use later for sift\n",
    "    keypoints_left = Convert_To_Keypoints(left_harris,threshold)\n",
    "    keypoints_right = Convert_To_Keypoints(right_harris,threshold)\n",
    "\n",
    "    '''Sift Descriptors'''\n",
    "    sift = cv.SIFT_create()\n",
    "\n",
    "    keypoints_left, ds_left = sift.compute(left_img, keypoints_left)\n",
    "    keypoints_right, ds_right = sift.compute(right_img, keypoints_right)\n",
    "\n",
    "    '''Calculating Euclidian/Corellation distance of the Descriptors'''\n",
    "\n",
    "    distance = distances(ds_left, ds_right, method=d_method)\n",
    "\n",
    "    print(\"Mean of the distance: \", distance.mean())\n",
    "    print(\"Minimum distance\", distance.min())\n",
    "    print (\"Standard Deviation\", distance.std())\n",
    "\n",
    "    # Collect the best matches and after display the number and the threshold used\n",
    "    match_cord = best_matches(distance,n_matches)\n",
    "\n",
    "\n",
    "    print(\"Number of best matches selected:\",len(match_cord))\n",
    "\n",
    "    # We take the filtered coordinates and we convert it with Dmatch to memory list\n",
    "    match_cord_D = []\n",
    "    for i in range(len(match_cord)):\n",
    "        match_cord_D.append( cv.DMatch(match_cord[i][0], match_cord[i][1], distance[match_cord[i][0]][match_cord[i][1]]))\n",
    "\n",
    "    # We draw the best matches\n",
    "    sift_matches = cv.drawMatches(left_img,keypoints_left,right_img,keypoints_right,match_cord_D,None, flags=2)\n",
    "\n",
    "    # Picture drawn with the best selected Matches\n",
    "    display_img(sift_matches)\n",
    "    plt.title(\"Best Selection of Matches\")\n",
    "\n",
    "    '''###Ransac###'''\n",
    "\n",
    "    # Here we go from memory to pixels so we can then proceed with Ransac\n",
    "    match_left = []\n",
    "    match_right= []\n",
    "    for kp in match_cord:\n",
    "        left_cord  = keypoints_left[kp[0]].pt\n",
    "        right_cord = keypoints_right[kp[1]].pt\n",
    "        match_left.append((left_cord))\n",
    "        match_right.append((right_cord))\n",
    "\n",
    "    '''###Image Stitching and Affine Transformation###'''\n",
    "    left_img, right_img = load_img(LEFT_PATH,RIGHT_PATH)\n",
    "    a1, b1, c1, a2, b2, c2, inliers= Ransac(match_left, match_right, tolerance=margin, ts=ts)\n",
    "\n",
    "    '''Cause we calculated the affine from left to right, we use the Inverse affine matrix to warp our right image\n",
    "    '''\n",
    "    #Build our affine Matrix\n",
    "    affine_TF = np.array([[a1, b1, c1], [a2, b2, c2], [0.0, 0.0, 1.0]])\n",
    "    stitched_img = cv.warpPerspective(right_img,np.linalg.inv(affine_TF),((left_img.shape[1] + right_img.shape[1]), left_img.shape[0])) #wraped image\n",
    "    display_img(stitched_img)\n",
    "\n",
    "    stitched_img[0:left_img.shape[0], 0:left_img.shape[1]] = left_img #stitched image\n",
    "    display_img(stitched_img)\n",
    "    plt.title(\"Final Stitched Image\")\n",
    "\n",
    "    in_matches = []\n",
    "    for pixels in inliers:\n",
    "        in_matches.append(match_cord_D[pixels])\n",
    "\n",
    "    sift_matches_in = cv.drawMatches(left_img,keypoints_left,right_img,keypoints_right,in_matches,None, flags=2)\n",
    "\n",
    "    display_img(sift_matches_in)\n",
    "    plt.title(\"The inliers location of the matches\")\n",
    "\n",
    "    MSE = inliner_residuals(inliers,match_left,match_right,affine_TF)\n",
    "    print('Average residual of the Inliers', MSE)\n"
   ]
  },
  {
   "cell_type": "code",
   "execution_count": null,
   "metadata": {
    "pycharm": {
     "name": "#%%\n",
     "is_executing": true
    }
   },
   "outputs": [
    {
     "name": "stdout",
     "output_type": "stream",
     "text": [
      "Mean of the distance:  0.8025483478624937\n",
      "Minimum distance 0.0019531007290373632\n",
      "Standard Deviation 0.14171119722569867\n"
     ]
    }
   ],
   "source": [
    "'''Set the parameters for the Corner Harris default values below\n",
    "#blocksize = 2\n",
    "#ksize = 3\n",
    "#K = 0.04\n",
    "threshold = 0.01\n",
    "'''\n",
    "'''n_matches is the number of the maximum best matches selected default value 400'''\n",
    "'''d_method is the distance metric used default 'euclidian' otherwise use 'correlation' '''\n",
    "\n",
    "''' Set the Ransac parameter\n",
    "Set the parameters for Ransac default values\n",
    "margin = 1 ( To be considered Inliner distange)\n",
    "ts = 0.9 (Ratio of inliners/all_points )\n",
    "'''\n",
    "\n",
    "'''Define your Desired Images here from the sample_images folder'''\n",
    "LEFT_PATH = '../Image_Stitching/sample_images/paris_left.png'\n",
    "RIGHT_PATH = '../Image_Stitching/sample_images/paris_right.png'\n",
    "\n",
    "Stitch_Images(LEFT_PATH,RIGHT_PATH,blocksize=2,ksize=3,K=0.04,n_matches=500,threshold=0.01,\n",
    "              d_method='euclidean', margin = 1 , ts = 0.9 )\n",
    "\n"
   ]
  },
  {
   "cell_type": "code",
   "execution_count": null,
   "outputs": [],
   "source": [],
   "metadata": {
    "collapsed": false,
    "pycharm": {
     "name": "#%%\n"
    }
   }
  }
 ],
 "metadata": {
  "kernelspec": {
   "display_name": "Python 3 (ipykernel)",
   "language": "python",
   "name": "python3"
  },
  "language_info": {
   "codemirror_mode": {
    "name": "ipython",
    "version": 3
   },
   "file_extension": ".py",
   "mimetype": "text/x-python",
   "name": "python",
   "nbconvert_exporter": "python",
   "pygments_lexer": "ipython3",
   "version": "3.8.8"
  }
 },
 "nbformat": 4,
 "nbformat_minor": 1
}